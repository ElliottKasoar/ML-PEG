{
 "cells": [
  {
   "cell_type": "code",
   "execution_count": 1,
   "id": "b2de3764",
   "metadata": {},
   "outputs": [],
   "source": [
    "from ase.io import read\n",
    "import matplotlib.pyplot as plt\n",
    "import numpy as np"
   ]
  },
  {
   "cell_type": "code",
   "execution_count": 2,
   "id": "2257c461",
   "metadata": {},
   "outputs": [],
   "source": [
    "x = read(\"../../data/homonuclear/N2_mace_mp-results.extxyz\", index=\":\")"
   ]
  },
  {
   "cell_type": "code",
   "execution_count": 3,
   "id": "9e7fe38a",
   "metadata": {},
   "outputs": [],
   "source": [
    "dists = []\n",
    "energies = []\n",
    "for struct in x:\n",
    "    dists.append(struct.get_distance(0, 1))\n",
    "    energies.append(struct.get_potential_energy())\n",
    "\n",
    "energies = np.array(energies) - energies[-1]"
   ]
  },
  {
   "cell_type": "code",
   "execution_count": 4,
   "id": "d32745c3",
   "metadata": {},
   "outputs": [
    {
     "data": {
      "text/plain": [
       "array([-3.32523930e+02,  1.93883898e+01,  1.10980345e+02,  1.07499483e+02,\n",
       "        8.53729533e+01,  5.18276956e+01,  2.31283921e+01,  5.31017866e+00,\n",
       "       -4.54746875e+00, -9.08092934e+00, -1.03015929e+01, -9.92309586e+00,\n",
       "       -8.91174255e+00, -7.61967575e+00, -6.29088028e+00, -5.05675796e+00,\n",
       "       -3.89960206e+00, -2.87984638e+00, -2.01299506e+00, -1.31715329e+00,\n",
       "       -8.31487603e-01, -5.05825800e-01, -3.05431952e-01, -1.94605899e-01,\n",
       "       -1.32111901e-01, -9.35587605e-02, -7.20826952e-02, -6.07278871e-02,\n",
       "       -5.44332954e-02, -5.02836556e-02, -4.54836846e-02, -3.98817274e-02,\n",
       "       -3.46769211e-02, -2.99207129e-02, -2.55797542e-02, -2.16175684e-02,\n",
       "       -1.78927664e-02, -1.45351529e-02, -1.18598427e-02, -9.96912601e-03,\n",
       "       -8.68878881e-03, -7.77412696e-03, -7.04706118e-03, -6.44277871e-03,\n",
       "       -6.01833140e-03, -5.87882726e-03, -6.04044788e-03, -6.35513726e-03,\n",
       "       -6.57318916e-03, -6.47813003e-03, -5.97659041e-03, -5.10260361e-03,\n",
       "       -3.97857973e-03, -2.77622213e-03, -1.67904731e-03, -8.35066594e-04,\n",
       "       -3.10128839e-04, -6.94231560e-05, -4.74258424e-06,  0.00000000e+00])"
      ]
     },
     "execution_count": 4,
     "metadata": {},
     "output_type": "execute_result"
    }
   ],
   "source": [
    "energies"
   ]
  },
  {
   "cell_type": "code",
   "execution_count": 5,
   "id": "c9591aba",
   "metadata": {},
   "outputs": [
    {
     "data": {
      "text/plain": [
       "2"
      ]
     },
     "execution_count": 5,
     "metadata": {},
     "output_type": "execute_result"
    }
   ],
   "source": [
    "np.argmax(energies)"
   ]
  },
  {
   "cell_type": "code",
   "execution_count": 6,
   "id": "095d1609",
   "metadata": {},
   "outputs": [
    {
     "data": {
      "text/plain": [
       "0.9"
      ]
     },
     "execution_count": 6,
     "metadata": {},
     "output_type": "execute_result"
    }
   ],
   "source": [
    "np.tanh(np.max(energies)) * (20 - np.argmax(energies)) / 20"
   ]
  },
  {
   "cell_type": "code",
   "execution_count": 7,
   "id": "e998fcf5",
   "metadata": {},
   "outputs": [
    {
     "name": "stderr",
     "output_type": "stream",
     "text": [
      "/var/folders/p8/6555_ljx3zx2m306t4nzkfp00000gn/T/ipykernel_55285/2812171892.py:4: RuntimeWarning: overflow encountered in exp\n",
      "  return (q * (np.exp(-2*m*(x-u))-2*np.exp(-m*(x-u))) + v)\n",
      "/var/folders/p8/6555_ljx3zx2m306t4nzkfp00000gn/T/ipykernel_55285/2812171892.py:4: RuntimeWarning: invalid value encountered in subtract\n",
      "  return (q * (np.exp(-2*m*(x-u))-2*np.exp(-m*(x-u))) + v)\n"
     ]
    }
   ],
   "source": [
    "from scipy.optimize import curve_fit\n",
    "\n",
    "def morse(x, q, m, u, v):\n",
    "    return (q * (np.exp(-2*m*(x-u))-2*np.exp(-m*(x-u))) + v)\n",
    "\n",
    "params, cov = curve_fit(morse, dists[4:], energies[4:], p0=(1, 1, 1, 0))"
   ]
  },
  {
   "cell_type": "code",
   "execution_count": 8,
   "id": "54515708",
   "metadata": {},
   "outputs": [
    {
     "data": {
      "text/plain": [
       "(array([9.39171884, 2.06616353, 1.1971289 , 0.38165531]),\n",
       " array([[ 2.54947839e-01, -1.39233187e-02,  7.32356570e-05,\n",
       "          6.04274327e-02],\n",
       "        [-1.39233187e-02,  2.29144275e-03, -4.77383734e-04,\n",
       "         -3.97422967e-03],\n",
       "        [ 7.32356570e-05, -4.77383734e-04,  1.49917580e-04,\n",
       "          1.52241760e-04],\n",
       "        [ 6.04274327e-02, -3.97422967e-03,  1.52241760e-04,\n",
       "          4.23501044e-02]]))"
      ]
     },
     "execution_count": 8,
     "metadata": {},
     "output_type": "execute_result"
    }
   ],
   "source": [
    "params, cov"
   ]
  },
  {
   "cell_type": "code",
   "execution_count": 9,
   "id": "18cbb14f",
   "metadata": {},
   "outputs": [
    {
     "data": {
      "image/png": "[encoded data removed]",
      "text/plain": [
       "<Figure size 640x480 with 1 Axes>"
      ]
     },
     "metadata": {},
     "output_type": "display_data"
    }
   ],
   "source": [
    "plt.plot(dists[:], energies[:])\n",
    "plt.plot(dists[1:], morse(dists[1:], *params))\n",
    "plt.ylim(-20, 20)\n",
    "plt.show()"
   ]
  },
  {
   "cell_type": "code",
   "execution_count": 10,
   "id": "37642f07",
   "metadata": {},
   "outputs": [
    {
     "data": {
      "text/plain": [
       "1"
      ]
     },
     "execution_count": 10,
     "metadata": {},
     "output_type": "execute_result"
    }
   ],
   "source": [
    "min = np.where(energies > 0)[0].min()\n",
    "min"
   ]
  },
  {
   "cell_type": "code",
   "execution_count": 11,
   "id": "39e102e8",
   "metadata": {},
   "outputs": [
    {
     "data": {
      "text/plain": [
       "7"
      ]
     },
     "execution_count": 11,
     "metadata": {},
     "output_type": "execute_result"
    }
   ],
   "source": [
    "np.where(energies[min:] < 0)[0].min()"
   ]
  }
 ],
 "metadata": {
  "kernelspec": {
   "display_name": ".venv",
   "language": "python",
   "name": "python3"
  },
  "language_info": {
   "codemirror_mode": {
    "name": "ipython",
    "version": 3
   },
   "file_extension": ".py",
   "mimetype": "text/x-python",
   "name": "python",
   "nbconvert_exporter": "python",
   "pygments_lexer": "ipython3",
   "version": "3.12.8"
  }
 },
 "nbformat": 4,
 "nbformat_minor": 5
}

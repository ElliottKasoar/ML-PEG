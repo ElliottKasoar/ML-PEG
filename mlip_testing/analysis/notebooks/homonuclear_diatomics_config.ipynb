{
 "cells": [
  {
   "cell_type": "code",
   "execution_count": 40,
   "id": "4c7b7486",
   "metadata": {},
   "outputs": [
    {
     "name": "stdout",
     "output_type": "stream",
     "text": [
      "abc\n"
     ]
    },
    {
     "data": {
      "image/png": "[encoded data removed]",
      "text/plain": [
       "<Figure size 640x480 with 1 Axes>"
      ]
     },
     "metadata": {},
     "output_type": "display_data"
    },
    {
     "data": {
      "text/plain": [
       "(array([0.        , 0.10204082, 0.20408163, 0.30612245, 0.40816327,\n",
       "        0.51020408, 0.6122449 , 0.71428571, 0.81632653, 0.91836735,\n",
       "        1.02040816, 1.12244898, 1.2244898 , 1.32653061, 1.42857143,\n",
       "        1.53061224, 1.63265306, 1.73469388, 1.83673469, 1.93877551,\n",
       "        2.04081633, 2.14285714, 2.24489796, 2.34693878, 2.44897959,\n",
       "        2.55102041, 2.65306122, 2.75510204, 2.85714286, 2.95918367,\n",
       "        3.06122449, 3.16326531, 3.26530612, 3.36734694, 3.46938776,\n",
       "        3.57142857, 3.67346939, 3.7755102 , 3.87755102, 3.97959184,\n",
       "        4.08163265, 4.18367347, 4.28571429, 4.3877551 , 4.48979592,\n",
       "        4.59183673, 4.69387755, 4.79591837, 4.89795918, 5.        ]),\n",
       " array([-1.        , -0.85714286, -0.71428571, -0.57142857, -0.42857143,\n",
       "        -0.28571429, -0.14285714,  0.        ,  0.14285714,  0.28571429,\n",
       "         0.42857143,  0.57142857,  0.71428571,  0.85714286,  1.        ,\n",
       "         1.14285714,  1.28571429,  1.42857143,  1.57142857,  1.71428571,\n",
       "         1.85714286,  2.        ,  2.14285714,  2.28571429,  2.42857143,\n",
       "         2.57142857,  2.71428571,  2.85714286,  3.        ,  3.14285714,\n",
       "         3.28571429,  3.42857143,  3.57142857,  3.71428571,  3.85714286,\n",
       "         4.        ,  4.14285714,  4.28571429,  4.42857143,  4.57142857,\n",
       "         4.71428571,  4.85714286,  5.        ,  5.14285714,  5.28571429,\n",
       "         5.42857143,  5.57142857,  5.71428571,  5.85714286,  6.        ]))"
      ]
     },
     "execution_count": 40,
     "metadata": {},
     "output_type": "execute_result"
    }
   ],
   "source": [
    "import functools\n",
    "\n",
    "import numpy as np\n",
    "import matplotlib.pyplot as plt\n",
    "\n",
    "def plot_scatter(plot_type=\"matplotlib\"):\n",
    "    def plot_scatter_decorator(func):\n",
    "        @functools.wraps(func)\n",
    "        def plot_scatter_wrapper(*args, **kwargs):\n",
    "            # x, y = np.linspace(0,5), np.linspace(0,10)\n",
    "            print(plot_type)\n",
    "            x, y = func(*args, **kwargs)\n",
    "            plt.plot(x,y)\n",
    "            plt.show()\n",
    "            return x, y\n",
    "        return(plot_scatter_wrapper)\n",
    "    return plot_scatter_decorator\n",
    "\n",
    "@plot_scatter(\"abc\")\n",
    "def testplot(x_min=0, x_max=5, y_min=-1, y_max=6):\n",
    "    x, y = np.linspace(x_min, x_max), np.linspace(y_min, y_max)\n",
    "    return x, y\n",
    "\n",
    "testplot()"
   ]
  },
  {
   "cell_type": "code",
   "execution_count": null,
   "id": "44f148a5",
   "metadata": {},
   "outputs": [],
   "source": []
  },
  {
   "cell_type": "code",
   "execution_count": null,
   "id": "6d3e7149",
   "metadata": {},
   "outputs": [],
   "source": []
  },
  {
   "cell_type": "code",
   "execution_count": 12,
   "id": "e90ead5e",
   "metadata": {},
   "outputs": [],
   "source": [
    "import base64\n",
    "from pathlib import Path\n",
    "\n",
    "from ase.io import read\n",
    "from dash import Dash, dcc, html, Input, Output, callback, dash_table\n",
    "import dash_bootstrap_components as dbc\n",
    "from IPython.display import update_display, display, DisplayHandle\n",
    "import numpy as np\n",
    "import plotly.express as px\n",
    "import plotly.graph_objects as go\n",
    "import pandas as pd\n",
    "from weas_widget import WeasWidget\n",
    "\n",
    "from mlip_testing import analysis\n",
    "from mlip_testing.analysis import homonuclear_diatomics\n",
    "from mlip_testing.analysis.utils import get_config"
   ]
  },
  {
   "cell_type": "code",
   "execution_count": 2,
   "id": "1a0a6576",
   "metadata": {},
   "outputs": [],
   "source": [
    "config = get_config(\n",
    "    \"/Users/elliottkasoar/Documents/PSDI/mlip-testing/mlip_testing/analysis/configs/homonuclear_diatomics_config.yml\"\n",
    ")\n",
    "\n",
    "test = \"homonuclear_diatomics\"\n",
    "name = config[test][\"name\"]\n",
    "\n",
    "module = getattr(analysis, config[test][\"module\"])\n",
    "mlips = config[test][\"mlips\"]\n",
    "\n",
    "get_structs = getattr(module, config[test][\"structs\"])\n",
    "structs = get_structs()"
   ]
  },
  {
   "cell_type": "code",
   "execution_count": 3,
   "id": "80a2db28",
   "metadata": {},
   "outputs": [],
   "source": [
    "input_results = {}\n",
    "metric_results = {}\n",
    "\n",
    "metrics = config[test][\"score\"][\"metrics\"]\n",
    "\n",
    "for metric in metrics:\n",
    "    inputs_name = metrics[metric][\"inputs\"]\n",
    "    get_inputs = getattr(\n",
    "        module, metrics[metric][inputs_name][\"calc\"]\n",
    "    )\n",
    "    input_results[metric] = get_inputs(mlips)\n",
    "\n",
    "    get_metric = getattr(module, metrics[metric][\"calc\"])\n",
    "    metric_results[metric] = get_metric(mlips, input_results[metric])\n",
    "\n",
    "get_score = getattr(module, config[test][\"score\"][\"calc\"])\n",
    "score = get_score(mlips, metric_results)"
   ]
  },
  {
   "cell_type": "code",
   "execution_count": 4,
   "id": "ab3f9251",
   "metadata": {},
   "outputs": [],
   "source": [
    "score_columns = (\"MLIP\", f\"{name} Score\")\n",
    "score_data = [\n",
    "    {\"MLIP\": mlip, f\"{name} Score\": score[mlip]} for mlip in mlips\n",
    "]\n",
    "\n",
    "metrics_columns = (\"MLIP\",) + tuple(metric_results.keys())\n",
    "\n",
    "metrics_data = []\n",
    "for mlip in mlips:\n",
    "    metrics_data.append(\n",
    "        {\"MLIP\": mlip} | {key: value[mlip] for key, value in metric_results.items()},\n",
    "\n",
    "    )"
   ]
  },
  {
   "cell_type": "code",
   "execution_count": 5,
   "id": "21dbbed6",
   "metadata": {},
   "outputs": [],
   "source": [
    "def view_struct(struct_file):\n",
    "    v=WeasWidget()\n",
    "    v.from_ase(read(struct_file, index=\":\"))\n",
    "    DisplayHandle(\"weas\").update(None)\n",
    "    display(v, display_id=\"weas\")"
   ]
  },
  {
   "cell_type": "code",
   "execution_count": 6,
   "id": "d4e90ded",
   "metadata": {},
   "outputs": [
    {
     "data": {
      "text/html": [
       "<div>\n",
       "<style scoped>\n",
       "    .dataframe tbody tr th:only-of-type {\n",
       "        vertical-align: middle;\n",
       "    }\n",
       "\n",
       "    .dataframe tbody tr th {\n",
       "        vertical-align: top;\n",
       "    }\n",
       "\n",
       "    .dataframe thead th {\n",
       "        text-align: right;\n",
       "    }\n",
       "</style>\n",
       "<table border=\"1\" class=\"dataframe\">\n",
       "  <thead>\n",
       "    <tr style=\"text-align: right;\">\n",
       "      <th></th>\n",
       "      <th>mace_mp</th>\n",
       "      <th>mace_mpa</th>\n",
       "      <th>label</th>\n",
       "    </tr>\n",
       "  </thead>\n",
       "  <tbody>\n",
       "    <tr>\n",
       "      <th>0</th>\n",
       "      <td>0.916667</td>\n",
       "      <td>1.0</td>\n",
       "      <td>U2</td>\n",
       "    </tr>\n",
       "    <tr>\n",
       "      <th>1</th>\n",
       "      <td>0.916667</td>\n",
       "      <td>1.0</td>\n",
       "      <td>Xe2</td>\n",
       "    </tr>\n",
       "    <tr>\n",
       "      <th>2</th>\n",
       "      <td>1.000000</td>\n",
       "      <td>1.0</td>\n",
       "      <td>Sm2</td>\n",
       "    </tr>\n",
       "    <tr>\n",
       "      <th>3</th>\n",
       "      <td>0.916667</td>\n",
       "      <td>1.0</td>\n",
       "      <td>Ce2</td>\n",
       "    </tr>\n",
       "    <tr>\n",
       "      <th>4</th>\n",
       "      <td>1.000000</td>\n",
       "      <td>1.0</td>\n",
       "      <td>Os2</td>\n",
       "    </tr>\n",
       "    <tr>\n",
       "      <th>...</th>\n",
       "      <td>...</td>\n",
       "      <td>...</td>\n",
       "      <td>...</td>\n",
       "    </tr>\n",
       "    <tr>\n",
       "      <th>90</th>\n",
       "      <td>0.833333</td>\n",
       "      <td>1.0</td>\n",
       "      <td>V2</td>\n",
       "    </tr>\n",
       "    <tr>\n",
       "      <th>91</th>\n",
       "      <td>1.000000</td>\n",
       "      <td>1.0</td>\n",
       "      <td>Cs2</td>\n",
       "    </tr>\n",
       "    <tr>\n",
       "      <th>92</th>\n",
       "      <td>1.000000</td>\n",
       "      <td>1.0</td>\n",
       "      <td>C2</td>\n",
       "    </tr>\n",
       "    <tr>\n",
       "      <th>93</th>\n",
       "      <td>0.900000</td>\n",
       "      <td>1.0</td>\n",
       "      <td>Sn2</td>\n",
       "    </tr>\n",
       "    <tr>\n",
       "      <th>94</th>\n",
       "      <td>1.000000</td>\n",
       "      <td>1.0</td>\n",
       "      <td>Rh2</td>\n",
       "    </tr>\n",
       "  </tbody>\n",
       "</table>\n",
       "<p>95 rows × 3 columns</p>\n",
       "</div>"
      ],
      "text/plain": [
       "     mace_mp  mace_mpa label\n",
       "0   0.916667       1.0    U2\n",
       "1   0.916667       1.0   Xe2\n",
       "2   1.000000       1.0   Sm2\n",
       "3   0.916667       1.0   Ce2\n",
       "4   1.000000       1.0   Os2\n",
       "..       ...       ...   ...\n",
       "90  0.833333       1.0    V2\n",
       "91  1.000000       1.0   Cs2\n",
       "92  1.000000       1.0    C2\n",
       "93  0.900000       1.0   Sn2\n",
       "94  1.000000       1.0   Rh2\n",
       "\n",
       "[95 rows x 3 columns]"
      ]
     },
     "execution_count": 6,
     "metadata": {},
     "output_type": "execute_result"
    }
   ],
   "source": [
    "input_results[\"energy\"].pop(\"ref\", None)\n",
    "df = pd.DataFrame.from_dict(input_results[\"energy\"])\n",
    "df[\"label\"] = [struct.stem for struct in structs]\n",
    "df"
   ]
  },
  {
   "cell_type": "code",
   "execution_count": 7,
   "id": "46858a9b",
   "metadata": {},
   "outputs": [],
   "source": [
    "def build_bar_chart(mlips, input_results, structs):\n",
    "    structs_list = [struct.stem for struct in structs]\n",
    "\n",
    "    return go.Figure(data=[\n",
    "        go.Bar(name=mlip, x=structs_list, y=input_results[\"energy\"][mlip]) for mlip in mlips\n",
    "    ])"
   ]
  },
  {
   "cell_type": "code",
   "execution_count": 8,
   "id": "3d1a601b",
   "metadata": {},
   "outputs": [
    {
     "data": {
      "text/plain": [
       "Atoms(symbols='U2', pbc=False, mace_mp_forces=..., calculator=SinglePointCalculator(...))"
      ]
     },
     "execution_count": 8,
     "metadata": {},
     "output_type": "execute_result"
    }
   ],
   "source": [
    "read(f\"../../data/homonuclear/{structs[0].stem}_{mlip}-results.extxyz\")"
   ]
  },
  {
   "cell_type": "code",
   "execution_count": 9,
   "id": "3ba243f5",
   "metadata": {},
   "outputs": [],
   "source": [
    "def build_diatomics_plots(mlips, bar_struct):\n",
    "    fig1 = go.Figure()\n",
    "\n",
    "    for mlip in mlips:\n",
    "        diatomic_structs = read(\n",
    "            f\"../../data/homonuclear/{bar_struct.stem}_{mlip}-results.extxyz\",\n",
    "            index=\":\"\n",
    "        )\n",
    "\n",
    "        dists = []\n",
    "        energies = []\n",
    "        for struct in diatomic_structs:\n",
    "            dists.append(struct.get_distance(0, 1))\n",
    "            energies.append(struct.get_potential_energy())\n",
    "\n",
    "        energies = np.array(energies) - energies[-1]\n",
    "        \n",
    "        fig1.add_trace(go.Scatter(\n",
    "            x=dists,\n",
    "            y=energies,\n",
    "            name=mlip,\n",
    "            # mode=\"markers\",\n",
    "            # text=formulae,\n",
    "            # hovertemplate=\"<br>Reference:%{x}<br>MACE:%{y}<br>Formula:%{text}\"),\n",
    "        ))\n",
    "\n",
    "    fig1.update_layout(yaxis_range=[-20, 20])\n",
    "    return fig1"
   ]
  },
  {
   "cell_type": "code",
   "execution_count": 10,
   "id": "bc8f6137",
   "metadata": {},
   "outputs": [
    {
     "data": {
      "application/vnd.plotly.v1+json": {
       "config": {
        "plotlyServerURL": "https://plot.ly"
       },
       "data": [
        {
         "name": "mace_mp",
         "type": "bar",
         "x": [
          "U2",
          "Xe2",
          "Sm2",
          "Ce2",
          "Os2",
          "Pr2",
          "Gd2",
          "Kr2",
          "Lu2",
          "Ir2",
          "Y2",
          "La2",
          "Mg2",
          "X2",
          "Ge2",
          "Yb2",
          "Cd2",
          "Na2",
          "Pm2",
          "Tl2",
          "Ac2",
          "Sr2",
          "Hg2",
          "Co2",
          "Bi2",
          "Ra2",
          "Pa2",
          "S2",
          "F2",
          "Pt2",
          "Be2",
          "Pu2",
          "Fe2",
          "Zn2",
          "Ta2",
          "K2",
          "Hf2",
          "Tm2",
          "Ru2",
          "Eu2",
          "Se2",
          "At2",
          "He2",
          "H2",
          "Po2",
          "Mn2",
          "Ca2",
          "Si2",
          "Tb2",
          "Br2",
          "Nd2",
          "Pb2",
          "Ne2",
          "Tc2",
          "Fr2",
          "P2",
          "Cu2",
          "Al2",
          "Mo2",
          "Rn2",
          "Li2",
          "Np2",
          "In2",
          "Ga2",
          "Ni2",
          "I2",
          "Au2",
          "Cl2",
          "Rb2",
          "Ba2",
          "Ho2",
          "B2",
          "Dy2",
          "Cr2",
          "W2",
          "Nb2",
          "Re2",
          "Sc2",
          "Ar2",
          "Zr2",
          "N2",
          "Ag2",
          "Th2",
          "Ti2",
          "O2",
          "As2",
          "Sb2",
          "Er2",
          "Pd2",
          "Te2",
          "V2",
          "Cs2",
          "C2",
          "Sn2",
          "Rh2"
         ],
         "y": [
          0.9166666666666666,
          0.9166666666666666,
          1,
          0.9166666666666666,
          1,
          1,
          0.9,
          0.9499999999999381,
          0.9,
          1,
          1,
          0.8833333333333333,
          1,
          1,
          0.9166666666666666,
          0.95,
          1,
          0.8666666664823396,
          1,
          1,
          0.9,
          0.9333333333333333,
          1,
          1,
          0.9,
          0.9,
          0.9166666666666666,
          1,
          0.9333333333333333,
          0.8333333333333334,
          1,
          -0.6666666666666666,
          1,
          0.85,
          1,
          0.9666666666666667,
          1,
          0.8833333333333333,
          1,
          -0.7333333333301815,
          1,
          1,
          0.33394834505330706,
          1,
          1,
          1,
          1,
          0.9,
          0.9,
          1,
          1,
          0.8,
          0.29933476134377707,
          1,
          1,
          1,
          0.8833333333333333,
          1,
          1,
          1,
          0.9166666666666666,
          0.9333333333333333,
          1,
          1,
          1,
          0.9166666666666666,
          1,
          0.9166666666666666,
          1,
          0.9,
          1,
          0.8833333333333333,
          0.9166666666666666,
          1,
          1,
          0.9666666666666667,
          1,
          0.8666666666666667,
          -0.08424156081817168,
          0.9333333333333333,
          0.9666666666666667,
          1,
          1,
          0.9166666666666666,
          0.9166666666666666,
          0.8666666666666667,
          0.9166666666666666,
          1,
          1,
          1,
          0.8333333333283784,
          1,
          1,
          0.9,
          1
         ]
        },
        {
         "name": "mace_mpa",
         "type": "bar",
         "x": [
          "U2",
          "Xe2",
          "Sm2",
          "Ce2",
          "Os2",
          "Pr2",
          "Gd2",
          "Kr2",
          "Lu2",
          "Ir2",
          "Y2",
          "La2",
          "Mg2",
          "X2",
          "Ge2",
          "Yb2",
          "Cd2",
          "Na2",
          "Pm2",
          "Tl2",
          "Ac2",
          "Sr2",
          "Hg2",
          "Co2",
          "Bi2",
          "Ra2",
          "Pa2",
          "S2",
          "F2",
          "Pt2",
          "Be2",
          "Pu2",
          "Fe2",
          "Zn2",
          "Ta2",
          "K2",
          "Hf2",
          "Tm2",
          "Ru2",
          "Eu2",
          "Se2",
          "At2",
          "He2",
          "H2",
          "Po2",
          "Mn2",
          "Ca2",
          "Si2",
          "Tb2",
          "Br2",
          "Nd2",
          "Pb2",
          "Ne2",
          "Tc2",
          "Fr2",
          "P2",
          "Cu2",
          "Al2",
          "Mo2",
          "Rn2",
          "Li2",
          "Np2",
          "In2",
          "Ga2",
          "Ni2",
          "I2",
          "Au2",
          "Cl2",
          "Rb2",
          "Ba2",
          "Ho2",
          "B2",
          "Dy2",
          "Cr2",
          "W2",
          "Nb2",
          "Re2",
          "Sc2",
          "Ar2",
          "Zr2",
          "N2",
          "Ag2",
          "Th2",
          "Ti2",
          "O2",
          "As2",
          "Sb2",
          "Er2",
          "Pd2",
          "Te2",
          "V2",
          "Cs2",
          "C2",
          "Sn2",
          "Rh2"
         ],
         "y": [
          1,
          1,
          1,
          1,
          1,
          1,
          1,
          1,
          1,
          1,
          1,
          1,
          1,
          1,
          1,
          1,
          1,
          1,
          1,
          1,
          1,
          1,
          1,
          1,
          1,
          1,
          1,
          1,
          1,
          1,
          1,
          1,
          1,
          1,
          1,
          1,
          1,
          1,
          1,
          1,
          1,
          1,
          1,
          1,
          1,
          1,
          1,
          1,
          1,
          1,
          1,
          1,
          1,
          1,
          1,
          1,
          1,
          1,
          1,
          1,
          1,
          1,
          1,
          1,
          1,
          1,
          1,
          1,
          1,
          1,
          1,
          1,
          1,
          1,
          1,
          1,
          1,
          1,
          1,
          1,
          1,
          1,
          1,
          1,
          1,
          1,
          1,
          1,
          1,
          1,
          1,
          1,
          1,
          1,
          1
         ]
        }
       ],
       "layout": {
        "template": {
         "data": {
          "bar": [
           {
            "error_x": {
             "color": "#2a3f5f"
            },
            "error_y": {
             "color": "#2a3f5f"
            },
            "marker": {
             "line": {
              "color": "#E5ECF6",
              "width": 0.5
             },
             "pattern": {
              "fillmode": "overlay",
              "size": 10,
              "solidity": 0.2
             }
            },
            "type": "bar"
           }
          ],
          "barpolar": [
           {
            "marker": {
             "line": {
              "color": "#E5ECF6",
              "width": 0.5
             },
             "pattern": {
              "fillmode": "overlay",
              "size": 10,
              "solidity": 0.2
             }
            },
            "type": "barpolar"
           }
          ],
          "carpet": [
           {
            "aaxis": {
             "endlinecolor": "#2a3f5f",
             "gridcolor": "white",
             "linecolor": "white",
             "minorgridcolor": "white",
             "startlinecolor": "#2a3f5f"
            },
            "baxis": {
             "endlinecolor": "#2a3f5f",
             "gridcolor": "white",
             "linecolor": "white",
             "minorgridcolor": "white",
             "startlinecolor": "#2a3f5f"
            },
            "type": "carpet"
           }
          ],
          "choropleth": [
           {
            "colorbar": {
             "outlinewidth": 0,
             "ticks": ""
            },
            "type": "choropleth"
           }
          ],
          "contour": [
           {
            "colorbar": {
             "outlinewidth": 0,
             "ticks": ""
            },
            "colorscale": [
             [
              0,
              "#0d0887"
             ],
             [
              0.1111111111111111,
              "#46039f"
             ],
             [
              0.2222222222222222,
              "#7201a8"
             ],
             [
              0.3333333333333333,
              "#9c179e"
             ],
             [
              0.4444444444444444,
              "#bd3786"
             ],
             [
              0.5555555555555556,
              "#d8576b"
             ],
             [
              0.6666666666666666,
              "#ed7953"
             ],
             [
              0.7777777777777778,
              "#fb9f3a"
             ],
             [
              0.8888888888888888,
              "#fdca26"
             ],
             [
              1,
              "#f0f921"
             ]
            ],
            "type": "contour"
           }
          ],
          "contourcarpet": [
           {
            "colorbar": {
             "outlinewidth": 0,
             "ticks": ""
            },
            "type": "contourcarpet"
           }
          ],
          "heatmap": [
           {
            "colorbar": {
             "outlinewidth": 0,
             "ticks": ""
            },
            "colorscale": [
             [
              0,
              "#0d0887"
             ],
             [
              0.1111111111111111,
              "#46039f"
             ],
             [
              0.2222222222222222,
              "#7201a8"
             ],
             [
              0.3333333333333333,
              "#9c179e"
             ],
             [
              0.4444444444444444,
              "#bd3786"
             ],
             [
              0.5555555555555556,
              "#d8576b"
             ],
             [
              0.6666666666666666,
              "#ed7953"
             ],
             [
              0.7777777777777778,
              "#fb9f3a"
             ],
             [
              0.8888888888888888,
              "#fdca26"
             ],
             [
              1,
              "#f0f921"
             ]
            ],
            "type": "heatmap"
           }
          ],
          "histogram": [
           {
            "marker": {
             "pattern": {
              "fillmode": "overlay",
              "size": 10,
              "solidity": 0.2
             }
            },
            "type": "histogram"
           }
          ],
          "histogram2d": [
           {
            "colorbar": {
             "outlinewidth": 0,
             "ticks": ""
            },
            "colorscale": [
             [
              0,
              "#0d0887"
             ],
             [
              0.1111111111111111,
              "#46039f"
             ],
             [
              0.2222222222222222,
              "#7201a8"
             ],
             [
              0.3333333333333333,
              "#9c179e"
             ],
             [
              0.4444444444444444,
              "#bd3786"
             ],
             [
              0.5555555555555556,
              "#d8576b"
             ],
             [
              0.6666666666666666,
              "#ed7953"
             ],
             [
              0.7777777777777778,
              "#fb9f3a"
             ],
             [
              0.8888888888888888,
              "#fdca26"
             ],
             [
              1,
              "#f0f921"
             ]
            ],
            "type": "histogram2d"
           }
          ],
          "histogram2dcontour": [
           {
            "colorbar": {
             "outlinewidth": 0,
             "ticks": ""
            },
            "colorscale": [
             [
              0,
              "#0d0887"
             ],
             [
              0.1111111111111111,
              "#46039f"
             ],
             [
              0.2222222222222222,
              "#7201a8"
             ],
             [
              0.3333333333333333,
              "#9c179e"
             ],
             [
              0.4444444444444444,
              "#bd3786"
             ],
             [
              0.5555555555555556,
              "#d8576b"
             ],
             [
              0.6666666666666666,
              "#ed7953"
             ],
             [
              0.7777777777777778,
              "#fb9f3a"
             ],
             [
              0.8888888888888888,
              "#fdca26"
             ],
             [
              1,
              "#f0f921"
             ]
            ],
            "type": "histogram2dcontour"
           }
          ],
          "mesh3d": [
           {
            "colorbar": {
             "outlinewidth": 0,
             "ticks": ""
            },
            "type": "mesh3d"
           }
          ],
          "parcoords": [
           {
            "line": {
             "colorbar": {
              "outlinewidth": 0,
              "ticks": ""
             }
            },
            "type": "parcoords"
           }
          ],
          "pie": [
           {
            "automargin": true,
            "type": "pie"
           }
          ],
          "scatter": [
           {
            "fillpattern": {
             "fillmode": "overlay",
             "size": 10,
             "solidity": 0.2
            },
            "type": "scatter"
           }
          ],
          "scatter3d": [
           {
            "line": {
             "colorbar": {
              "outlinewidth": 0,
              "ticks": ""
             }
            },
            "marker": {
             "colorbar": {
              "outlinewidth": 0,
              "ticks": ""
             }
            },
            "type": "scatter3d"
           }
          ],
          "scattercarpet": [
           {
            "marker": {
             "colorbar": {
              "outlinewidth": 0,
              "ticks": ""
             }
            },
            "type": "scattercarpet"
           }
          ],
          "scattergeo": [
           {
            "marker": {
             "colorbar": {
              "outlinewidth": 0,
              "ticks": ""
             }
            },
            "type": "scattergeo"
           }
          ],
          "scattergl": [
           {
            "marker": {
             "colorbar": {
              "outlinewidth": 0,
              "ticks": ""
             }
            },
            "type": "scattergl"
           }
          ],
          "scattermap": [
           {
            "marker": {
             "colorbar": {
              "outlinewidth": 0,
              "ticks": ""
             }
            },
            "type": "scattermap"
           }
          ],
          "scattermapbox": [
           {
            "marker": {
             "colorbar": {
              "outlinewidth": 0,
              "ticks": ""
             }
            },
            "type": "scattermapbox"
           }
          ],
          "scatterpolar": [
           {
            "marker": {
             "colorbar": {
              "outlinewidth": 0,
              "ticks": ""
             }
            },
            "type": "scatterpolar"
           }
          ],
          "scatterpolargl": [
           {
            "marker": {
             "colorbar": {
              "outlinewidth": 0,
              "ticks": ""
             }
            },
            "type": "scatterpolargl"
           }
          ],
          "scatterternary": [
           {
            "marker": {
             "colorbar": {
              "outlinewidth": 0,
              "ticks": ""
             }
            },
            "type": "scatterternary"
           }
          ],
          "surface": [
           {
            "colorbar": {
             "outlinewidth": 0,
             "ticks": ""
            },
            "colorscale": [
             [
              0,
              "#0d0887"
             ],
             [
              0.1111111111111111,
              "#46039f"
             ],
             [
              0.2222222222222222,
              "#7201a8"
             ],
             [
              0.3333333333333333,
              "#9c179e"
             ],
             [
              0.4444444444444444,
              "#bd3786"
             ],
             [
              0.5555555555555556,
              "#d8576b"
             ],
             [
              0.6666666666666666,
              "#ed7953"
             ],
             [
              0.7777777777777778,
              "#fb9f3a"
             ],
             [
              0.8888888888888888,
              "#fdca26"
             ],
             [
              1,
              "#f0f921"
             ]
            ],
            "type": "surface"
           }
          ],
          "table": [
           {
            "cells": {
             "fill": {
              "color": "#EBF0F8"
             },
             "line": {
              "color": "white"
             }
            },
            "header": {
             "fill": {
              "color": "#C8D4E3"
             },
             "line": {
              "color": "white"
             }
            },
            "type": "table"
           }
          ]
         },
         "layout": {
          "annotationdefaults": {
           "arrowcolor": "#2a3f5f",
           "arrowhead": 0,
           "arrowwidth": 1
          },
          "autotypenumbers": "strict",
          "coloraxis": {
           "colorbar": {
            "outlinewidth": 0,
            "ticks": ""
           }
          },
          "colorscale": {
           "diverging": [
            [
             0,
             "#8e0152"
            ],
            [
             0.1,
             "#c51b7d"
            ],
            [
             0.2,
             "#de77ae"
            ],
            [
             0.3,
             "#f1b6da"
            ],
            [
             0.4,
             "#fde0ef"
            ],
            [
             0.5,
             "#f7f7f7"
            ],
            [
             0.6,
             "#e6f5d0"
            ],
            [
             0.7,
             "#b8e186"
            ],
            [
             0.8,
             "#7fbc41"
            ],
            [
             0.9,
             "#4d9221"
            ],
            [
             1,
             "#276419"
            ]
           ],
           "sequential": [
            [
             0,
             "#0d0887"
            ],
            [
             0.1111111111111111,
             "#46039f"
            ],
            [
             0.2222222222222222,
             "#7201a8"
            ],
            [
             0.3333333333333333,
             "#9c179e"
            ],
            [
             0.4444444444444444,
             "#bd3786"
            ],
            [
             0.5555555555555556,
             "#d8576b"
            ],
            [
             0.6666666666666666,
             "#ed7953"
            ],
            [
             0.7777777777777778,
             "#fb9f3a"
            ],
            [
             0.8888888888888888,
             "#fdca26"
            ],
            [
             1,
             "#f0f921"
            ]
           ],
           "sequentialminus": [
            [
             0,
             "#0d0887"
            ],
            [
             0.1111111111111111,
             "#46039f"
            ],
            [
             0.2222222222222222,
             "#7201a8"
            ],
            [
             0.3333333333333333,
             "#9c179e"
            ],
            [
             0.4444444444444444,
             "#bd3786"
            ],
            [
             0.5555555555555556,
             "#d8576b"
            ],
            [
             0.6666666666666666,
             "#ed7953"
            ],
            [
             0.7777777777777778,
             "#fb9f3a"
            ],
            [
             0.8888888888888888,
             "#fdca26"
            ],
            [
             1,
             "#f0f921"
            ]
           ]
          },
          "colorway": [
           "#636efa",
           "#EF553B",
           "#00cc96",
           "#ab63fa",
           "#FFA15A",
           "#19d3f3",
           "#FF6692",
           "#B6E880",
           "#FF97FF",
           "#FECB52"
          ],
          "font": {
           "color": "#2a3f5f"
          },
          "geo": {
           "bgcolor": "white",
           "lakecolor": "white",
           "landcolor": "#E5ECF6",
           "showlakes": true,
           "showland": true,
           "subunitcolor": "white"
          },
          "hoverlabel": {
           "align": "left"
          },
          "hovermode": "closest",
          "mapbox": {
           "style": "light"
          },
          "paper_bgcolor": "white",
          "plot_bgcolor": "#E5ECF6",
          "polar": {
           "angularaxis": {
            "gridcolor": "white",
            "linecolor": "white",
            "ticks": ""
           },
           "bgcolor": "#E5ECF6",
           "radialaxis": {
            "gridcolor": "white",
            "linecolor": "white",
            "ticks": ""
           }
          },
          "scene": {
           "xaxis": {
            "backgroundcolor": "#E5ECF6",
            "gridcolor": "white",
            "gridwidth": 2,
            "linecolor": "white",
            "showbackground": true,
            "ticks": "",
            "zerolinecolor": "white"
           },
           "yaxis": {
            "backgroundcolor": "#E5ECF6",
            "gridcolor": "white",
            "gridwidth": 2,
            "linecolor": "white",
            "showbackground": true,
            "ticks": "",
            "zerolinecolor": "white"
           },
           "zaxis": {
            "backgroundcolor": "#E5ECF6",
            "gridcolor": "white",
            "gridwidth": 2,
            "linecolor": "white",
            "showbackground": true,
            "ticks": "",
            "zerolinecolor": "white"
           }
          },
          "shapedefaults": {
           "line": {
            "color": "#2a3f5f"
           }
          },
          "ternary": {
           "aaxis": {
            "gridcolor": "white",
            "linecolor": "white",
            "ticks": ""
           },
           "baxis": {
            "gridcolor": "white",
            "linecolor": "white",
            "ticks": ""
           },
           "bgcolor": "#E5ECF6",
           "caxis": {
            "gridcolor": "white",
            "linecolor": "white",
            "ticks": ""
           }
          },
          "title": {
           "x": 0.05
          },
          "xaxis": {
           "automargin": true,
           "gridcolor": "white",
           "linecolor": "white",
           "ticks": "",
           "title": {
            "standoff": 15
           },
           "zerolinecolor": "white",
           "zerolinewidth": 2
          },
          "yaxis": {
           "automargin": true,
           "gridcolor": "white",
           "linecolor": "white",
           "ticks": "",
           "title": {
            "standoff": 15
           },
           "zerolinecolor": "white",
           "zerolinewidth": 2
          }
         }
        }
       }
      }
     },
     "metadata": {},
     "output_type": "display_data"
    }
   ],
   "source": [
    "build_bar_chart(mlips, input_results, structs)"
   ]
  },
  {
   "cell_type": "code",
   "execution_count": 11,
   "id": "33764ded",
   "metadata": {},
   "outputs": [
    {
     "data": {
      "text/html": [
       "\n",
       "        <iframe\n",
       "            width=\"100%\"\n",
       "            height=\"650\"\n",
       "            src=\"http://127.0.0.1:1236/\"\n",
       "            frameborder=\"0\"\n",
       "            allowfullscreen\n",
       "            \n",
       "        ></iframe>\n",
       "        "
      ],
      "text/plain": [
       "<IPython.lib.display.IFrame at 0x30a318d40>"
      ]
     },
     "metadata": {},
     "output_type": "display_data"
    }
   ],
   "source": [
    "external_stylesheets = [\"https://codepen.io/chriddyp/pen/bWLwgP.css\"]\n",
    "\n",
    "app = Dash(\n",
    "    __name__,\n",
    "    external_stylesheets=external_stylesheets,\n",
    "    suppress_callback_exceptions=True,\n",
    ")\n",
    "\n",
    "styles = {\n",
    "    \"pre\": {\n",
    "        \"border\": \"thin lightgrey solid\",\n",
    "        \"overflowX\": \"scroll\"\n",
    "    }\n",
    "}\n",
    "\n",
    "app.layout = html.Div([\n",
    "    html.H1(f\"{name}\", style={\"color\": \"black\"}),\n",
    "    \n",
    "    html.Div(\n",
    "        dbc.Container([\n",
    "            dbc.Label(f'{name} scores'),\n",
    "            dash_table.DataTable(score_data, [{\"name\": i, \"id\": i} for i in score_columns], id='score'),\n",
    "        ]),\n",
    "        style={\"display\": \"flex\", \"width\": \"99%\", \"alignItems\": \"center\",},\n",
    "    ),\n",
    "\n",
    "    html.Div(\n",
    "        id='metrics-placeholder',\n",
    "        style={\"display\": \"flex\", \"width\": \"99%\", \"alignItems\": \"center\",}\n",
    "    ),\n",
    "\n",
    "    html.Div(\n",
    "        id=\"metrics-bar-placeholder\",\n",
    "        style={\"display\": \"inline-block\", \"width\": \"99%\"}\n",
    "    ),\n",
    "\n",
    "    html.Div(\n",
    "        id=\"metrics-plot-placeholder\",\n",
    "        style={\"display\": \"inline-block\", \"width\": \"99%\"}\n",
    "    ),\n",
    "\n",
    "    # html.Div(\n",
    "    #     id=\"metrics-struct-placeholder\",\n",
    "    #     style={\"display\": \"inline-block\", \"width\": \"99%\"}\n",
    "    # ),\n",
    "\n",
    "])\n",
    "\n",
    "@callback(\n",
    "    Output('metrics-placeholder', 'children'),\n",
    "    Input('score', 'active_cell'),\n",
    ")\n",
    "def update_metrics(active_cell):\n",
    "    if active_cell is None:\n",
    "        return html.Div(\n",
    "                \"Click on a column to view more details.\",\n",
    "                style={\"display\": \"flex\", \"width\": \"99%\", \"alignItems\": \"center\",}\n",
    "            )\n",
    "    if active_cell[\"column_id\"] == f\"{name} Score\":\n",
    "        return dbc.Container([\n",
    "            dbc.Label(f\"{name} metrics\"),\n",
    "            dash_table.DataTable(metrics_data, [{\"name\": i, \"id\": i} for i in metrics_columns], id=\"metrics\"),\n",
    "        ])\n",
    "\n",
    "@callback(\n",
    "    Output('metrics-bar-placeholder', 'children'),\n",
    "    Input('metrics', 'active_cell'),\n",
    ")\n",
    "def update_bar(active_cell):\n",
    "    if active_cell is None:\n",
    "        return html.Div(\n",
    "                \"Click on a metric to view more details.\",\n",
    "                style={\"display\": \"flex\", \"width\": \"99%\", \"alignItems\": \"center\",}\n",
    "            )\n",
    "    if active_cell.get(\"column_id\", None):\n",
    "        return dcc.Graph(\n",
    "            id=\"metrics-bar\", \n",
    "            figure=build_bar_chart(mlips, input_results, structs)\n",
    "        )\n",
    "\n",
    "@callback(\n",
    "    Output(\"metrics-plot-placeholder\", \"children\"),\n",
    "    Input(\"metrics-bar\", \"clickData\"),\n",
    ")\n",
    "def update_plot_from_bar(clickData):\n",
    "    if clickData is None:\n",
    "        return html.Div(\n",
    "            \"Click on a point to view plot.\",\n",
    "            style={\"display\": \"flex\", \"width\": \"99%\", \"alignItems\": \"center\",}\n",
    "        )\n",
    "\n",
    "    # return html.Div(\n",
    "    #     f\"{clickData}\",\n",
    "    #     style={\"display\": \"flex\", \"width\": \"99%\", \"alignItems\": \"center\",}\n",
    "    # )\n",
    "    idx = clickData[\"points\"][0][\"pointNumber\"]\n",
    "    return dcc.Graph(\n",
    "        id=\"metrics-plot\", figure=build_diatomics_plots(mlips, structs[idx])\n",
    "    )\n",
    "\n",
    "\n",
    "# @callback(\n",
    "#     Output(\"metrics-struct-placeholder\", \"children\"),\n",
    "#     Input(\"metrics-scatter\", \"clickData\"),\n",
    "#     Input(\"metrics-plot\", \"clickData\"),\n",
    "# )\n",
    "# def update_struct(clickDataScatter, clickDataPlot):\n",
    "#     if not (clickDataScatter or clickDataPlot):\n",
    "#         return html.Div(\n",
    "#             \"Click on a point to view structure.\",\n",
    "#             style={\"display\": \"flex\", \"width\": \"99%\", \"alignItems\": \"center\",}\n",
    "#         )\n",
    "#     if clickDataScatter:\n",
    "#         idx = clickDataScatter[\"points\"][0][\"pointNumber\"]\n",
    "#         view_struct(structs[idx])\n",
    "#     if clickDataPlot:\n",
    "#         idx = clickDataScatter[\"points\"][0][\"pointNumber\"]\n",
    "#         mlip = mlips[clickDataScatter[\"points\"][0][\"curveNumber\"]]\n",
    "#         build_eos_structs(mlip, structs[idx])\n",
    "\n",
    "if __name__ == \"__main__\":\n",
    "    app.run(port=1236, debug=True)"
   ]
  }
 ],
 "metadata": {
  "kernelspec": {
   "display_name": ".venv",
   "language": "python",
   "name": "python3"
  },
  "language_info": {
   "codemirror_mode": {
    "name": "ipython",
    "version": 3
   },
   "file_extension": ".py",
   "mimetype": "text/x-python",
   "name": "python",
   "nbconvert_exporter": "python",
   "pygments_lexer": "ipython3",
   "version": "3.12.8"
  }
 },
 "nbformat": 4,
 "nbformat_minor": 5
}
